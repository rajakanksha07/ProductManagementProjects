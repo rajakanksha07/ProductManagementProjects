{
  "nbformat": 4,
  "nbformat_minor": 0,
  "metadata": {
    "colab": {
      "provenance": []
    },
    "kernelspec": {
      "name": "python3",
      "display_name": "Python 3"
    },
    "language_info": {
      "name": "python"
    }
  },
  "cells": [
    {
      "cell_type": "code",
      "source": [
        "!pip install pandas==2.2.2 nltk==3.9.1 gensim==4.3.3 matplotlib==3.7.1 openpyxl==3.1.2 numpy==1.26.4 scipy==1.13.1\n",
        "import pandas as pd\n",
        "import nltk\n",
        "from nltk.corpus import stopwords\n",
        "from nltk.tokenize import word_tokenize\n",
        "from nltk.stem import WordNetLemmatizer\n",
        "import gensim\n",
        "from gensim import corpora\n",
        "import matplotlib.pyplot as plt\n",
        "nltk.download('punkt')\n",
        "nltk.download('punkt_tab')\n",
        "nltk.download('stopwords')\n",
        "nltk.download('wordnet')"
      ],
      "metadata": {
        "colab": {
          "base_uri": "https://localhost:8080/"
        },
        "collapsed": true,
        "id": "ZB68cqeMrrua",
        "outputId": "109d4701-d6c0-4617-818c-0f3b59a90efe"
      },
      "execution_count": null,
      "outputs": [
        {
          "output_type": "stream",
          "name": "stdout",
          "text": [
            "Requirement already satisfied: pandas==2.2.2 in /usr/local/lib/python3.11/dist-packages (2.2.2)\n",
            "Requirement already satisfied: nltk==3.9.1 in /usr/local/lib/python3.11/dist-packages (3.9.1)\n",
            "Requirement already satisfied: gensim==4.3.3 in /usr/local/lib/python3.11/dist-packages (4.3.3)\n",
            "Requirement already satisfied: matplotlib==3.7.1 in /usr/local/lib/python3.11/dist-packages (3.7.1)\n",
            "Requirement already satisfied: openpyxl==3.1.2 in /usr/local/lib/python3.11/dist-packages (3.1.2)\n",
            "Requirement already satisfied: numpy==1.26.4 in /usr/local/lib/python3.11/dist-packages (1.26.4)\n",
            "Requirement already satisfied: scipy==1.13.1 in /usr/local/lib/python3.11/dist-packages (1.13.1)\n",
            "Requirement already satisfied: python-dateutil>=2.8.2 in /usr/local/lib/python3.11/dist-packages (from pandas==2.2.2) (2.9.0.post0)\n",
            "Requirement already satisfied: pytz>=2020.1 in /usr/local/lib/python3.11/dist-packages (from pandas==2.2.2) (2025.2)\n",
            "Requirement already satisfied: tzdata>=2022.7 in /usr/local/lib/python3.11/dist-packages (from pandas==2.2.2) (2025.2)\n",
            "Requirement already satisfied: click in /usr/local/lib/python3.11/dist-packages (from nltk==3.9.1) (8.2.1)\n",
            "Requirement already satisfied: joblib in /usr/local/lib/python3.11/dist-packages (from nltk==3.9.1) (1.5.1)\n",
            "Requirement already satisfied: regex>=2021.8.3 in /usr/local/lib/python3.11/dist-packages (from nltk==3.9.1) (2024.11.6)\n",
            "Requirement already satisfied: tqdm in /usr/local/lib/python3.11/dist-packages (from nltk==3.9.1) (4.67.1)\n",
            "Requirement already satisfied: smart-open>=1.8.1 in /usr/local/lib/python3.11/dist-packages (from gensim==4.3.3) (7.1.0)\n",
            "Requirement already satisfied: contourpy>=1.0.1 in /usr/local/lib/python3.11/dist-packages (from matplotlib==3.7.1) (1.3.2)\n",
            "Requirement already satisfied: cycler>=0.10 in /usr/local/lib/python3.11/dist-packages (from matplotlib==3.7.1) (0.12.1)\n",
            "Requirement already satisfied: fonttools>=4.22.0 in /usr/local/lib/python3.11/dist-packages (from matplotlib==3.7.1) (4.58.4)\n",
            "Requirement already satisfied: kiwisolver>=1.0.1 in /usr/local/lib/python3.11/dist-packages (from matplotlib==3.7.1) (1.4.8)\n",
            "Requirement already satisfied: packaging>=20.0 in /usr/local/lib/python3.11/dist-packages (from matplotlib==3.7.1) (24.2)\n",
            "Requirement already satisfied: pillow>=6.2.0 in /usr/local/lib/python3.11/dist-packages (from matplotlib==3.7.1) (11.2.1)\n",
            "Requirement already satisfied: pyparsing>=2.3.1 in /usr/local/lib/python3.11/dist-packages (from matplotlib==3.7.1) (3.2.3)\n",
            "Requirement already satisfied: et-xmlfile in /usr/local/lib/python3.11/dist-packages (from openpyxl==3.1.2) (2.0.0)\n",
            "Requirement already satisfied: six>=1.5 in /usr/local/lib/python3.11/dist-packages (from python-dateutil>=2.8.2->pandas==2.2.2) (1.17.0)\n",
            "Requirement already satisfied: wrapt in /usr/local/lib/python3.11/dist-packages (from smart-open>=1.8.1->gensim==4.3.3) (1.17.2)\n"
          ]
        },
        {
          "output_type": "stream",
          "name": "stderr",
          "text": [
            "[nltk_data] Downloading package punkt to /root/nltk_data...\n",
            "[nltk_data]   Unzipping tokenizers/punkt.zip.\n",
            "[nltk_data] Downloading package punkt_tab to /root/nltk_data...\n",
            "[nltk_data]   Unzipping tokenizers/punkt_tab.zip.\n",
            "[nltk_data] Downloading package stopwords to /root/nltk_data...\n",
            "[nltk_data]   Unzipping corpora/stopwords.zip.\n",
            "[nltk_data] Downloading package wordnet to /root/nltk_data...\n"
          ]
        },
        {
          "output_type": "execute_result",
          "data": {
            "text/plain": [
              "True"
            ]
          },
          "metadata": {},
          "execution_count": 1
        }
      ]
    },
    {
      "cell_type": "code",
      "source": [
        "df = pd.read_excel('UberData.xlsx', sheet_name='Sheet1')\n",
        "df = df.dropna(subset=['Comments']).drop_duplicates(subset=['Comments'])\n",
        "df['Cleaned_Comments'] = df['Comments']\n",
        "print(df.head())"
      ],
      "metadata": {
        "colab": {
          "base_uri": "https://localhost:8080/"
        },
        "collapsed": true,
        "id": "RmPpa2UBsZCL",
        "outputId": "c4711785-30f9-4f07-a75d-821f24868456"
      },
      "execution_count": null,
      "outputs": [
        {
          "output_type": "stream",
          "name": "stdout",
          "text": [
            "                                            Comments Gender  \\\n",
            "0  Yeah calling the police only works. One my col...      F   \n",
            "1  True. I had to book Uber for my maid, and the ...      F   \n",
            "2  Uber is a joke. Period. Its been a joke for a ...      F   \n",
            "3  I had a similar incident a couple of weeks ago...      F   \n",
            "4  Yes, I learnt the hard way too.. the latest sc...      F   \n",
            "\n",
            "                                    Cleaned_Comments  \n",
            "0  Yeah calling the police only works. One my col...  \n",
            "1  True. I had to book Uber for my maid, and the ...  \n",
            "2  Uber is a joke. Period. Its been a joke for a ...  \n",
            "3  I had a similar incident a couple of weeks ago...  \n",
            "4  Yes, I learnt the hard way too.. the latest sc...  \n"
          ]
        }
      ]
    },
    {
      "cell_type": "code",
      "source": [
        "stop_words = set(stopwords.words('english'))\n",
        "lemmatizer = WordNetLemmatizer()\n",
        "\n",
        "def preprocess_text(text):\n",
        "    tokens = word_tokenize(str(text).lower())\n",
        "    tokens = [token for token in tokens if token.isalpha() and token not in stop_words]\n",
        "    tokens = [lemmatizer.lemmatize(token) for token in tokens]\n",
        "    return tokens\n",
        "\n",
        "df['Cleaned_Comments'] = df['Comments'].apply(preprocess_text)\n",
        "print(df['Cleaned_Comments'].head())"
      ],
      "metadata": {
        "colab": {
          "base_uri": "https://localhost:8080/"
        },
        "collapsed": true,
        "id": "hzANA4u2vPEz",
        "outputId": "872c5518-235d-4ee5-88b3-5c4dcaeb6fd4"
      },
      "execution_count": null,
      "outputs": [
        {
          "output_type": "stream",
          "name": "stdout",
          "text": [
            "0    [yeah, calling, police, work, one, colleague, ...\n",
            "1    [true, book, uber, maid, driver, insisted, sit...\n",
            "2    [uber, joke, period, joke, quality, customer, ...\n",
            "3    [similar, incident, couple, week, ago, late, n...\n",
            "4    [yes, learnt, hard, way, latest, scam, driver,...\n",
            "Name: Cleaned_Comments, dtype: object\n"
          ]
        }
      ]
    },
    {
      "cell_type": "code",
      "source": [
        "dictionary = corpora.Dictionary(df['Cleaned_Comments'])\n",
        "dictionary.filter_extremes(no_below=5, no_above=0.5)\n",
        "corpus = [dictionary.doc2bow(text) for text in df['Cleaned_Comments']]\n",
        "lda_model = gensim.models.LdaModel(corpus, num_topics=20, id2word=dictionary, passes=30, random_state=42)\n",
        "topics = lda_model.print_topics(num_words=5)\n",
        "for topic in topics:\n",
        "    print(topic)"
      ],
      "metadata": {
        "collapsed": true,
        "colab": {
          "base_uri": "https://localhost:8080/"
        },
        "id": "1EjaGUT_vX1B",
        "outputId": "062903c6-1725-4604-d865-38ea81522f7c"
      },
      "execution_count": null,
      "outputs": [
        {
          "output_type": "stream",
          "name": "stdout",
          "text": [
            "(0, '0.117*\"take\" + 0.103*\"route\" + 0.090*\"asked\" + 0.066*\"driver\" + 0.062*\"auto\"')\n",
            "(1, '0.126*\"ride\" + 0.097*\"charged\" + 0.073*\"go\" + 0.052*\"time\" + 0.049*\"night\"')\n",
            "(2, '0.095*\"emergency\" + 0.079*\"work\" + 0.063*\"get\" + 0.063*\"time\" + 0.062*\"number\"')\n",
            "(3, '0.073*\"get\" + 0.055*\"driver\" + 0.055*\"help\" + 0.055*\"thing\" + 0.055*\"day\"')\n",
            "(4, '0.331*\"trip\" + 0.125*\"emergency\" + 0.048*\"time\" + 0.043*\"people\" + 0.043*\"night\"')\n",
            "(5, '0.272*\"customer\" + 0.213*\"support\" + 0.116*\"ride\" + 0.069*\"still\" + 0.055*\"help\"')\n",
            "(6, '0.097*\"one\" + 0.095*\"app\" + 0.061*\"working\" + 0.061*\"number\" + 0.061*\"saying\"')\n",
            "(7, '0.150*\"customer\" + 0.141*\"support\" + 0.140*\"even\" + 0.111*\"issue\" + 0.064*\"ca\"')\n",
            "(8, '0.134*\"tried\" + 0.107*\"number\" + 0.081*\"like\" + 0.081*\"get\" + 0.054*\"safety\"')\n",
            "(9, '0.106*\"email\" + 0.095*\"support\" + 0.077*\"response\" + 0.070*\"please\" + 0.065*\"customer\"')\n",
            "(10, '0.206*\"customer\" + 0.116*\"driver\" + 0.110*\"service\" + 0.084*\"safety\" + 0.058*\"trip\"')\n",
            "(11, '0.174*\"driver\" + 0.107*\"ride\" + 0.075*\"time\" + 0.072*\"passenger\" + 0.062*\"safety\"')\n",
            "(12, '0.094*\"service\" + 0.094*\"care\" + 0.071*\"cab\" + 0.071*\"so\" + 0.048*\"safety\"')\n",
            "(13, '0.123*\"minute\" + 0.087*\"driver\" + 0.074*\"cab\" + 0.074*\"fare\" + 0.074*\"also\"')\n",
            "(14, '0.099*\"call\" + 0.057*\"way\" + 0.057*\"time\" + 0.043*\"driver\" + 0.043*\"car\"')\n",
            "(15, '0.169*\"call\" + 0.117*\"customer\" + 0.112*\"support\" + 0.076*\"issue\" + 0.068*\"response\"')\n",
            "(16, '0.089*\"care\" + 0.089*\"way\" + 0.089*\"incident\" + 0.089*\"going\" + 0.070*\"safety\"')\n",
            "(17, '0.107*\"driver\" + 0.092*\"button\" + 0.061*\"police\" + 0.061*\"so\" + 0.049*\"even\"')\n",
            "(18, '0.105*\"ride\" + 0.063*\"driver\" + 0.063*\"cab\" + 0.063*\"route\" + 0.063*\"night\"')\n",
            "(19, '0.280*\"driver\" + 0.064*\"route\" + 0.052*\"take\" + 0.048*\"also\" + 0.048*\"taking\"')\n"
          ]
        }
      ]
    },
    {
      "cell_type": "code",
      "source": [
        "safety_keywords = {\n",
        "    'safety': 2.5, 'accident': 2.2, 'incident': 2.1, 'unsafe': 2.3, 'danger': 2.3,\n",
        "    'harassment': 2.5, 'security': 2.1, 'panic': 2.2, 'women': 2.5, 'driver': 2.0,\n",
        "    'threat': 2.5, 'assault': 2.5, 'emergency': 2.2, 'police': 2.2, 'route': 2.0,\n",
        "    'rescue': 2.3, 'legal': 2.1, 'helpline': 2.0, 'sos':3.0,'button':2.5,\n",
        "}\n",
        "support_keywords = {\n",
        "    'support': 2.5, 'customer': 2.2, 'call': 1.3, 'help': 1.2, 'response': 1.5,\n",
        "    'complaint': 1.3, 'service': 1.2, 'assistance': 1.2, 'care': 2.2,\n",
        "    'issue': 1.2, 'problem': 1.2, 'resolve': 1.3, 'contact': 1.3, 'joke': 1.0\n",
        "}\n",
        "refund_keywords = {\n",
        "    'refund': 2.5, 'overcharged': 2.3, 'charged': 2.2, 'payment': 2.0, 'billing': 2.1,\n",
        "    'money': 1.9, 'cost': 1.7, 'fee': 1.9, 'price': 1.7, 'deducted': 2.0, 'pay': 1.9,\n",
        "    'fare': 1.9, 'dispute': 2.1, 'overcharge': 2.3, 'shown': 1.5, 'showing': 1.5\n",
        "}\n",
        "\n",
        "topic_to_category = {}\n",
        "for i in range(20):\n",
        "    top_words = [word for word, _ in lda_model.show_topic(i, topn=10)]\n",
        "    safety_score = sum(safety_keywords.get(word, 0) for word in top_words)\n",
        "    support_score = sum(support_keywords.get(word, 0) for word in top_words)\n",
        "    refund_score = sum(refund_keywords.get(word, 0) for word in top_words)\n",
        "    total_score = safety_score + support_score + refund_score\n",
        "    if total_score == 0:\n",
        "        category = 'Customer_Support'\n",
        "    else:\n",
        "        norm_safety = safety_score / total_score\n",
        "        norm_support = support_score / total_score\n",
        "        norm_refund = refund_score / total_score\n",
        "        max_norm = max(norm_safety, norm_support, norm_refund)\n",
        "        if norm_safety == max_norm and norm_safety > 0.25:\n",
        "            category = 'Safety_Issues'\n",
        "        elif norm_refund == max_norm and norm_refund > 0.25:\n",
        "            category = 'Refund_Issues'\n",
        "        elif norm_support == max_norm and norm_support > 0.25:\n",
        "            category = 'Customer_Support'\n",
        "        else:\n",
        "            category = 'Customer_Support'\n",
        "    topic_to_category[i] = category\n",
        "    print(f\"Topic {i}: {top_words[:3]} -> {category} (Scores: S={safety_score:.1f}, C={support_score:.1f}, R={refund_score:.1f})\")\n",
        "\n",
        "category_counts = {'Safety_Issues': 0, 'Customer_Support': 0, 'Refund_Issues': 0}\n",
        "for idx, doc in enumerate(corpus):\n",
        "    comment = df['Comments'].iloc[idx].lower()\n",
        "    topic_dist = lda_model.get_document_topics(doc, minimum_probability=0)\n",
        "    category_scores = {'Safety_Issues': 0, 'Customer_Support': 0, 'Refund_Issues': 0}\n",
        "    comment_words = comment.split()\n",
        "    safety_score = sum(safety_keywords.get(word, 0) for word in comment_words if word in safety_keywords)\n",
        "    support_score = sum(support_keywords.get(word, 0) for word in comment_words if word in support_keywords)\n",
        "    refund_score = sum(refund_keywords.get(word, 0) for word in comment_words if word in refund_keywords)\n",
        "\n",
        "    for topic, prob in topic_dist:\n",
        "        category = topic_to_category[topic]\n",
        "        top_words = [word for word, _ in lda_model.show_topic(topic, topn=10)]\n",
        "        topic_safety = sum(safety_keywords.get(word, 0) for word in top_words)\n",
        "        topic_support = sum(support_keywords.get(word, 0) for word in top_words)\n",
        "        topic_refund = sum(refund_keywords.get(word, 0) for word in top_words)\n",
        "        max_topic_score = max(topic_safety, topic_support, topic_refund)\n",
        "        if max_topic_score > 0:\n",
        "            weight = max_topic_score / 10\n",
        "        else:\n",
        "            weight = 1.0\n",
        "        category_scores[category] += prob * weight\n",
        "\n",
        "    category_scores['Safety_Issues'] += safety_score * 0.8\n",
        "    category_scores['Customer_Support'] += support_score * 0.8\n",
        "    category_scores['Refund_Issues'] += refund_score * 0.8\n",
        "\n",
        "    max_score = max(category_scores.values())\n",
        "    if max_score == 0:\n",
        "        category = 'Customer_Support'\n",
        "    else:\n",
        "        for cat, score in category_scores.items():\n",
        "            if score == max_score:\n",
        "                category = cat\n",
        "                break\n",
        "    category_counts[category] += 1\n",
        "\n",
        "categories = ['Safety_Issues', 'Customer_Support', 'Refund_Issues']\n",
        "counts = [category_counts[cat] for cat in categories]\n",
        "plt.figure(figsize=(8, 6))\n",
        "plt.bar(categories, counts)\n",
        "plt.xlabel('Category')\n",
        "plt.ylabel('Number of Documents')\n",
        "plt.title('Uber SOS Feedback by Category')\n",
        "plt.show()"
      ],
      "metadata": {
        "colab": {
          "base_uri": "https://localhost:8080/",
          "height": 911
        },
        "id": "Ka_k6M9UvbiC",
        "outputId": "fce70839-9ffd-4bdf-c1db-412581908df7"
      },
      "execution_count": null,
      "outputs": [
        {
          "output_type": "stream",
          "name": "stdout",
          "text": [
            "Topic 0: ['take', 'route', 'asked'] -> Safety_Issues (Scores: S=4.0, C=0.0, R=0.0)\n",
            "Topic 1: ['ride', 'charged', 'go'] -> Refund_Issues (Scores: S=2.1, C=0.0, R=4.1)\n",
            "Topic 2: ['emergency', 'work', 'get'] -> Safety_Issues (Scores: S=4.4, C=1.3, R=0.0)\n",
            "Topic 3: ['get', 'driver', 'help'] -> Customer_Support (Scores: S=2.0, C=3.7, R=0.0)\n",
            "Topic 4: ['trip', 'emergency', 'time'] -> Safety_Issues (Scores: S=2.2, C=1.3, R=0.0)\n",
            "Topic 5: ['customer', 'support', 'ride'] -> Customer_Support (Scores: S=2.0, C=7.1, R=0.0)\n",
            "Topic 6: ['one', 'app', 'working'] -> Customer_Support (Scores: S=2.0, C=2.5, R=0.0)\n",
            "Topic 7: ['customer', 'support', 'even'] -> Customer_Support (Scores: S=0.0, C=7.2, R=0.0)\n",
            "Topic 8: ['tried', 'number', 'like'] -> Safety_Issues (Scores: S=4.5, C=0.0, R=0.0)\n",
            "Topic 9: ['email', 'support', 'response'] -> Customer_Support (Scores: S=0.0, C=7.4, R=0.0)\n",
            "Topic 10: ['customer', 'driver', 'service'] -> Customer_Support (Scores: S=4.5, C=6.9, R=0.0)\n",
            "Topic 11: ['driver', 'ride', 'time'] -> Safety_Issues (Scores: S=4.5, C=0.0, R=1.9)\n",
            "Topic 12: ['service', 'care', 'cab'] -> Customer_Support (Scores: S=4.5, C=6.9, R=0.0)\n",
            "Topic 13: ['minute', 'driver', 'cab'] -> Safety_Issues (Scores: S=4.1, C=2.5, R=1.9)\n",
            "Topic 14: ['call', 'way', 'time'] -> Customer_Support (Scores: S=2.0, C=6.0, R=2.0)\n",
            "Topic 15: ['call', 'customer', 'support'] -> Customer_Support (Scores: S=4.5, C=8.7, R=0.0)\n",
            "Topic 16: ['care', 'way', 'incident'] -> Safety_Issues (Scores: S=6.6, C=5.9, R=0.0)\n",
            "Topic 17: ['driver', 'button', 'police'] -> Safety_Issues (Scores: S=6.7, C=1.0, R=0.0)\n",
            "Topic 18: ['ride', 'driver', 'cab'] -> Safety_Issues (Scores: S=6.1, C=1.2, R=0.0)\n",
            "Topic 19: ['driver', 'route', 'take'] -> Safety_Issues (Scores: S=4.0, C=0.0, R=0.0)\n"
          ]
        },
        {
          "output_type": "display_data",
          "data": {
            "text/plain": [
              "<Figure size 800x600 with 1 Axes>"
            ],
            "image/png": "[encoded data removed]"
          },
          "metadata": {}
        }
      ]
    }
  ]
}